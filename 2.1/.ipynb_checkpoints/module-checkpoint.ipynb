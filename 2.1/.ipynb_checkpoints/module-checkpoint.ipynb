{
 "cells": [
  {
   "cell_type": "markdown",
   "id": "d3068f96",
   "metadata": {},
   "source": [
    "#\n",
    "\n",
    "## Привет, Яндекс!\n",
    "\n",
    "Формат вывода\n",
    "Одна строка: «Привет, Яндекс!»"
   ]
  }
 ],
 "metadata": {
  "language_info": {
   "name": "python"
  }
 },
 "nbformat": 4,
 "nbformat_minor": 5
}
